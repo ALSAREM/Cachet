{
  "nbformat": 4,
  "nbformat_minor": 0,
  "metadata": {
    "colab": {
      "name": "Optimiz Trends",
      "provenance": [],
      "authorship_tag": "ABX9TyNMMnnaKZDU1eGqsdoFeTDA",
      "include_colab_link": true
    },
    "kernelspec": {
      "name": "python3",
      "display_name": "Python 3"
    },
    "language_info": {
      "name": "python"
    }
  },
  "cells": [
    {
      "cell_type": "markdown",
      "metadata": {
        "id": "view-in-github",
        "colab_type": "text"
      },
      "source": [
        "<a href=\"https://colab.research.google.com/github/ALSAREM/Cachet/blob/master/Optimiz_Trends.ipynb\" target=\"_parent\"><img src=\"https://colab.research.google.com/assets/colab-badge.svg\" alt=\"Open In Colab\"/></a>"
      ]
    },
    {
      "cell_type": "code",
      "metadata": {
        "id": "2rRNdSVHwabM"
      },
      "source": [
        ""
      ],
      "execution_count": null,
      "outputs": []
    },
    {
      "cell_type": "code",
      "metadata": {
        "id": "wiGrhVC1wsy3"
      },
      "source": [
        "#@title Example form fields\n",
        "#@markdown Forms support many types of fields.\n",
        "\n",
        "URL = 'https://optimiz.me'  #@param {type: \"string\"}\n",
        "Quanity = 142  #@param {type: \"slider\", min: 100, max: 200}\n",
        "\n",
        "#@markdown ---\n"
      ],
      "execution_count": null,
      "outputs": []
    }
  ]
}